{
 "cells": [
  {
   "cell_type": "code",
   "execution_count": null,
   "metadata": {},
   "outputs": [],
   "source": [
    "import json\n",
    "from json import JSONEncoder\n",
    "import re\n",
    "import time\n",
    "import datetime"
   ]
  },
  {
   "cell_type": "code",
   "execution_count": null,
   "metadata": {},
   "outputs": [],
   "source": [
    "class SensorData:\n",
    "    def __init__(self):\n",
    "        self.date = ''        # data collection date\n",
    "        self.temperature = [] # temperature values\n",
    "        self.humidity = []    # humdity values"
   ]
  },
  {
   "cell_type": "code",
   "execution_count": null,
   "metadata": {},
   "outputs": [],
   "source": [
    "class MyEncoder(JSONEncoder):\n",
    "    def default(self, o):\n",
    "        return o.__dict__ \n",
    "# http://stackoverflow.com/questions/3768895/how-to-make-a-class-json-serializable    "
   ]
  },
  {
   "cell_type": "code",
   "execution_count": null,
   "metadata": {},
   "outputs": [],
   "source": [
    "def process_sensor_data(file_name):\n",
    "    start_time = time.time()    \n",
    "    \n",
    "    # Extract date value from each line\n",
    "    PATTERN_HEADER = r'^(?P<year>\\d{4})(?P<month>\\d{2})(?P<day>\\d{2})'\n",
    "    # Data pattern is used for iterating available temperature and humdity pairs\n",
    "    PATTERN_DATA = r'(?i)(?P<temperature>\\d{4}|NNNN)(?P<humidity>\\d{3}|NNN)'\n",
    "    \n",
    "    sensor_data_regex = re.compile(PATTERN_DATA)\n",
    "    \n",
    "    all_data = []\n",
    "    \n",
    "    with open(file_name,'r', encoding='utf-8') as rdr:            \n",
    "        for line in rdr:\n",
    "            # One row contains a day worth of data\n",
    "            sensor_data = SensorData()\n",
    "            \n",
    "            match = re.search(PATTERN_HEADER, line)\n",
    "\n",
    "            if match:\n",
    "                sensor_data.date = \\\n",
    "                    '-'.join([match.group('year'),match.group('month'),match.group('day')])\n",
    "                \n",
    "                header_len = len(match.group(0))\n",
    "                \n",
    "                # compiled object - you can search from specific point in text\n",
    "                #  skip the header portion and look for temperature-humdity pairs\n",
    "                match_iter = sensor_data_regex.finditer(line,header_len)\n",
    "                \n",
    "                for match in match_iter:\n",
    "                    # access temperature and humidity groups\n",
    "                    sensor_data.temperature.append(match.group('temperature'))\n",
    "                    sensor_data.humidity.append(match.group('humidity'))                    \n",
    "\n",
    "                all_data.append(sensor_data)\n",
    "        \n",
    "        print ('Elapsed time for parsing and format conversion: {0:.2f}s'.format(time.time()-start_time))\n",
    "        \n",
    "        with open(file_name+'.json','w', encoding='utf-8') as wr:\n",
    "            json.dump(all_data, wr, ensure_ascii=False, cls=MyEncoder, indent=True)\n",
    "            \n",
    "        print ('Elapsed time write to File : {0:.2f}s'.format(time.time()-start_time))"
   ]
  },
  {
   "cell_type": "code",
   "execution_count": null,
   "metadata": {},
   "outputs": [],
   "source": [
    "file_name =  r\"..\\Data\\SensorData\\sensordata_small.txt\"\n",
    "process_sensor_data(file_name)"
   ]
  },
  {
   "cell_type": "code",
   "execution_count": null,
   "metadata": {},
   "outputs": [],
   "source": []
  }
 ],
 "metadata": {
  "kernelspec": {
   "display_name": "Python 3",
   "language": "python",
   "name": "python3"
  },
  "language_info": {
   "codemirror_mode": {
    "name": "ipython",
    "version": 3
   },
   "file_extension": ".py",
   "mimetype": "text/x-python",
   "name": "python",
   "nbconvert_exporter": "python",
   "pygments_lexer": "ipython3",
   "version": "3.7.4"
  }
 },
 "nbformat": 4,
 "nbformat_minor": 1
}
