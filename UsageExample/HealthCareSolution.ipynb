{
 "cells": [
  {
   "cell_type": "code",
   "execution_count": null,
   "metadata": {},
   "outputs": [],
   "source": [
    "import re\n",
    "import time\n",
    "import datetime"
   ]
  },
  {
   "cell_type": "code",
   "execution_count": null,
   "metadata": {},
   "outputs": [],
   "source": [
    "def process_healthcare_data(file_name):    \n",
    "    start_time = time.time()    \n",
    "   \n",
    "    PATTERN_ROW = r'(?:<tr\\s*/>)|(?:<tr\\b[^>]*>(?P<arow>.+?)</tr>)'    \n",
    "    PATTERN_CELL = r'(?:<(?:th|td)\\s*/>)|(?:<(?P<element>th|td)\\b[^>]*>(?P<col>.+?)</(?P=element)>)'\n",
    "    PATTERN_CLEANUP = r'\\s+|&#160;'\n",
    "    \n",
    "    html_content = open(file_name,'r', encoding='utf-8').read()\n",
    "    \n",
    "    # Cleanup: Replaces all extra spaces, new lines, tabs etc with a single space.    \n",
    "    html_content = re.sub(PATTERN_CLEANUP,' ', html_content)    \n",
    "    \n",
    "    with open(file_name + '.csv','w', encoding='utf-8') as wr:\n",
    "        \n",
    "        # Process each row in the table\n",
    "        row_iter = re.finditer(PATTERN_ROW, html_content)\n",
    "        \n",
    "        for row_match in row_iter:\n",
    "            # Skip empty rows. Process only if group arow matched.        \n",
    "            if row_match.group('arow'):\n",
    "                rowData = []\n",
    "                \n",
    "                # For each cell in a row\n",
    "                col_iter = re.finditer(PATTERN_CELL,row_match.group('arow'))\n",
    "                \n",
    "                for col_match in col_iter:                    \n",
    "                    # check for empty columns\n",
    "                    if col_match.group('col'):\n",
    "                        rowData.append(col_match.group('col').replace(',',''))\n",
    "                    else:\n",
    "                        rowData.append('')\n",
    "                        \n",
    "                wr.write(','.join(rowData))\n",
    "                wr.write('\\n')\n",
    "                \n",
    "    print ('Elapsed Time : {0:.2f}s'.format(time.time()-start_time))"
   ]
  },
  {
   "cell_type": "code",
   "execution_count": null,
   "metadata": {},
   "outputs": [],
   "source": [
    "files =[r\"..\\Data\\HealthData\\problems.html\",\n",
    "        r\"..\\Data\\HealthData\\labresults.html\"]\n",
    "for file_name in files:\n",
    "    print('****{0}'.format(file_name))\n",
    "    process_healthcare_data(file_name)"
   ]
  },
  {
   "cell_type": "code",
   "execution_count": null,
   "metadata": {},
   "outputs": [],
   "source": []
  }
 ],
 "metadata": {
  "kernelspec": {
   "display_name": "Python 3",
   "language": "python",
   "name": "python3"
  },
  "language_info": {
   "codemirror_mode": {
    "name": "ipython",
    "version": 3
   },
   "file_extension": ".py",
   "mimetype": "text/x-python",
   "name": "python",
   "nbconvert_exporter": "python",
   "pygments_lexer": "ipython3",
   "version": "3.7.4"
  }
 },
 "nbformat": 4,
 "nbformat_minor": 1
}
