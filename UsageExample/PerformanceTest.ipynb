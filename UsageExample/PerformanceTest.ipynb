{
 "cells": [
  {
   "cell_type": "markdown",
   "metadata": {},
   "source": [
    "<h1>Performance Comparison</h1>\n",
    "<h2>re module and compiled objects</h2>"
   ]
  },
  {
   "cell_type": "code",
   "execution_count": 1,
   "metadata": {},
   "outputs": [],
   "source": [
    "import re\n",
    "import time"
   ]
  },
  {
   "cell_type": "markdown",
   "metadata": {},
   "source": [
    "<h2> Module Method Test </h2>\n",
    "<h3> Test 1: Invoke search method with same pattern and text for 10,000 times </h3>"
   ]
  },
  {
   "cell_type": "code",
   "execution_count": 2,
   "metadata": {},
   "outputs": [],
   "source": [
    " def module_method_repetition_test():\n",
    "    # Single Pattern. 10000 iteration - Good performance\n",
    "    pattern = r\"(?P<year>\\d{4})(?P<month>\\d{2})(?P<day>\\d{2})(?P<hour>\\d{2})?\"\n",
    "    text = \"Timestamp=20160502\"\n",
    "    \n",
    "    pass_count = 0\n",
    "    fail_count = 0\n",
    "    \n",
    "    start_time = time.time()\n",
    "    \n",
    "    for i in range(0,10000):\n",
    "        match = re.search(pattern, text)\n",
    "    \n",
    "        if match:\n",
    "            pass_count += 1\n",
    "        else:\n",
    "            fail_count +=1\n",
    "\n",
    "    print ('Elapsed Time: {0:.2f}s, pass:{1}, fail:{2}'.format(\n",
    "            time.time() - start_time, pass_count, fail_count))"
   ]
  },
  {
   "cell_type": "code",
   "execution_count": 3,
   "metadata": {},
   "outputs": [
    {
     "name": "stdout",
     "output_type": "stream",
     "text": [
      "Elapsed Time: 0.02s, pass:10000, fail:0\n"
     ]
    }
   ],
   "source": [
    "module_method_repetition_test()"
   ]
  },
  {
   "cell_type": "markdown",
   "metadata": {},
   "source": [
    "<h3> Test 2: Invoke search method with different pattern and text for 10,000 times </h3>"
   ]
  },
  {
   "cell_type": "code",
   "execution_count": 4,
   "metadata": {},
   "outputs": [],
   "source": [
    "def module_method_cache_pattern_repetition_test(pattern_count):\n",
    "    # Initialize by creating the specified number of patterns    \n",
    "    pattern_prefix = r\"(?P<year>\\d{4})(?P<month>\\d{2})(?P<day>\\d{2})\"\n",
    "    pattern_list = list()\n",
    "    \n",
    "    for i in range(0,pattern_count):\n",
    "        pattern_list.append(pattern_prefix + str(i))\n",
    "        \n",
    "    \n",
    "    text = \"Timestamp=20160502\"\n",
    "    \n",
    "    pass_count = 0\n",
    "    fail_count = 0\n",
    "    \n",
    "    start_time = time.time()\n",
    "    \n",
    "    # Invoke each pattern in a sequence    \n",
    "    for i in range(0,10000):\n",
    "        \n",
    "        # pattern index\n",
    "        selected = i % pattern_count\n",
    "        \n",
    "        # select a pattern from the available list\n",
    "        match = re.search(pattern_list[selected], text + str(selected))\n",
    "    \n",
    "        if match:\n",
    "            pass_count += 1\n",
    "        else:\n",
    "            fail_count +=1\n",
    "\n",
    "    print ('Elapsed Time: {0:.2f}s, pass:{1}, fail:{2}'.format(\n",
    "            time.time() - start_time, pass_count, fail_count))"
   ]
  },
  {
   "cell_type": "markdown",
   "metadata": {},
   "source": [
    "<h3> Test by varying the number of patterns</h3>\n",
    "1. 10 patterns<br>\n",
    "2. 512 patterns<br>\n",
    "3. 513 patterns<br>"
   ]
  },
  {
   "cell_type": "code",
   "execution_count": 5,
   "metadata": {},
   "outputs": [
    {
     "name": "stdout",
     "output_type": "stream",
     "text": [
      "Elapsed Time: 0.02s, pass:10000, fail:0\n"
     ]
    }
   ],
   "source": [
    "module_method_cache_pattern_repetition_test(10)"
   ]
  },
  {
   "cell_type": "code",
   "execution_count": 6,
   "metadata": {},
   "outputs": [
    {
     "name": "stdout",
     "output_type": "stream",
     "text": [
      "Elapsed Time: 0.09s, pass:10000, fail:0\n"
     ]
    }
   ],
   "source": [
    "module_method_cache_pattern_repetition_test(512)"
   ]
  },
  {
   "cell_type": "code",
   "execution_count": 7,
   "metadata": {},
   "outputs": [
    {
     "name": "stdout",
     "output_type": "stream",
     "text": [
      "Elapsed Time: 1.25s, pass:10000, fail:0\n"
     ]
    }
   ],
   "source": [
    "# Cache cleared and rebuilt\n",
    "module_method_cache_pattern_repetition_test(513)"
   ]
  },
  {
   "cell_type": "markdown",
   "metadata": {
    "collapsed": true
   },
   "source": [
    "<h2>Compiled Object Test</h2>\n",
    "<h3> Cache the objects in your code</h3>"
   ]
  },
  {
   "cell_type": "code",
   "execution_count": 8,
   "metadata": {},
   "outputs": [],
   "source": [
    "def compiled_method_appcache_repetition_test(pattern_count):   \n",
    "    \n",
    "    # Initialize cache with specified number of compiled patterns\n",
    "    pattern_prefix = r\"(?P<year>\\d{4})(?P<month>\\d{2})(?P<day>\\d{2})\"\n",
    "    pattern_object = list()\n",
    "\n",
    "    # Compile and add to cache\n",
    "    for i in range(0,pattern_count):\n",
    "        pattern_object.append(re.compile(pattern_prefix + str(i)))\n",
    "        \n",
    "    print(len(pattern_object))\n",
    "    \n",
    "    text = \"Timestamp=20160502\"\n",
    "    \n",
    "    pass_count = 0\n",
    "    fail_count = 0\n",
    "    \n",
    "    \n",
    "    start_time = time.time()\n",
    "    \n",
    "    # Invoke each pattern in a sequence       \n",
    "    for i in range(0,10000):\n",
    "        \n",
    "        # pattern index\n",
    "        selected = i % pattern_count\n",
    "        \n",
    "        # select pattern from the list and invoke search method\n",
    "        match = pattern_object[selected].search(text + str(selected))\n",
    "    \n",
    "        if match:\n",
    "            pass_count += 1\n",
    "        else:\n",
    "            fail_count +=1\n",
    "\n",
    "    print ('Elapsed Time: {0:.2f}s, pass:{1}, fail:{2}'.format(\n",
    "            time.time() - start_time, pass_count, fail_count))"
   ]
  },
  {
   "cell_type": "markdown",
   "metadata": {},
   "source": [
    "<h3>Test by varying the number of patterns</h3>\n",
    "1. 10 patterns<br>\n",
    "2. 515 patterns<br>"
   ]
  },
  {
   "cell_type": "code",
   "execution_count": 9,
   "metadata": {},
   "outputs": [
    {
     "name": "stdout",
     "output_type": "stream",
     "text": [
      "10\n",
      "Elapsed Time: 0.02s, pass:10000, fail:0\n"
     ]
    }
   ],
   "source": [
    "compiled_method_appcache_repetition_test(10)"
   ]
  },
  {
   "cell_type": "code",
   "execution_count": 10,
   "metadata": {},
   "outputs": [
    {
     "name": "stdout",
     "output_type": "stream",
     "text": [
      "515\n",
      "Elapsed Time: 0.01s, pass:10000, fail:0\n"
     ]
    }
   ],
   "source": [
    "compiled_method_appcache_repetition_test(515)"
   ]
  },
  {
   "cell_type": "code",
   "execution_count": null,
   "metadata": {},
   "outputs": [],
   "source": []
  }
 ],
 "metadata": {
  "kernelspec": {
   "display_name": "Python 3",
   "language": "python",
   "name": "python3"
  },
  "language_info": {
   "codemirror_mode": {
    "name": "ipython",
    "version": 3
   },
   "file_extension": ".py",
   "mimetype": "text/x-python",
   "name": "python",
   "nbconvert_exporter": "python",
   "pygments_lexer": "ipython3",
   "version": "3.7.4"
  }
 },
 "nbformat": 4,
 "nbformat_minor": 1
}
