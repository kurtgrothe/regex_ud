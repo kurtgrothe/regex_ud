{
 "cells": [
  {
   "cell_type": "code",
   "execution_count": null,
   "metadata": {},
   "outputs": [],
   "source": [
    "import json\n",
    "from json import JSONEncoder\n",
    "import re\n",
    "import time"
   ]
  },
  {
   "cell_type": "code",
   "execution_count": null,
   "metadata": {},
   "outputs": [],
   "source": [
    "class LogMetrics:\n",
    "    def __init__(self):\n",
    "        self.log_file_name = '' # file name \n",
    "        self.directory = {} # source and destionation directory paths\n",
    "        self.metric_type = [] # no. of directories or files or bytes\n",
    "        self.metric_total = [] # total count\n",
    "        self.metric_copied = [] # actual copied count\n",
    "        self.metric_skipped = [] # skipped count\n",
    "        self.metric_failed = [] # failed count\n",
    "        self.error = False  # If True error during transfer\n",
    "        self.error_message = '' # Actual error encountered"
   ]
  },
  {
   "cell_type": "code",
   "execution_count": null,
   "metadata": {},
   "outputs": [],
   "source": [
    "# http://stackoverflow.com/questions/3768895/how-to-make-a-class-json-serializable\n",
    "class MyEncoder(JSONEncoder):\n",
    "    def default(self, o):\n",
    "        return o.__dict__ "
   ]
  },
  {
   "cell_type": "code",
   "execution_count": null,
   "metadata": {},
   "outputs": [],
   "source": [
    "def parse_log_test(file_list):    \n",
    "    \n",
    "    # Extract source and destination directory    \n",
    "    PATTERN_DIRECTORY_NAME = r'(?i)^\\s+(?P<type>Source|Dest)\\s+:(?P<dir>.+)'\n",
    "    \n",
    "    # Locate Errors\n",
    "    PATTERN_ERROR = r'(?i)^(?P<ts>\\d{4}(/\\d{2}){2}\\s+(\\d{2}:){2}\\d{2})\\s+error(?P<error>.+)'            \n",
    "    \n",
    "    # Extract Metrics columns\n",
    "    PATTERN_METRICS = \\\n",
    "     r'(?i)^\\s+(?P<type>dirs|files|bytes)\\s+:\\s+'\\\n",
    "     r'(?P<total>\\d{1,})\\s+(?P<copied>\\d{1,})\\s+'\\\n",
    "     r'(?P<skipped>\\d{1,})\\s+(?P<mismatch>\\d{1,})\\s+'\\\n",
    "     r'(?P<failed>\\d{1,})\\s+(?P<extras>\\d{1,})'\n",
    "    \n",
    "    for file_name in file_list:\n",
    "        log_metrics = LogMetrics()\n",
    "        log_metrics.log_file_name = file_name\n",
    "        \n",
    "        with open(file_name,'r', encoding='utf-8') as rdr:            \n",
    "            for line in rdr:                \n",
    "                match = re.search(PATTERN_ERROR, line)\n",
    "            \n",
    "                if match:\n",
    "                    log_metrics.error = True\n",
    "                    log_metrics.error_message = line\n",
    "                    \n",
    "                match = re.search(PATTERN_DIRECTORY_NAME, line)\n",
    "                \n",
    "                if match:\n",
    "                    log_metrics.directory[match.group('type')] = match.group('dir')\n",
    "                    \n",
    "                match = re.search(PATTERN_METRICS, line)\n",
    "                \n",
    "                if match:\n",
    "                    log_metrics.metric_type.append(match.group('type'))\n",
    "                    log_metrics.metric_total.append(int(match.group('total')))\n",
    "                    log_metrics.metric_copied.append(int(match.group('copied')))\n",
    "                    log_metrics.metric_skipped.append(int(match.group('skipped')))\n",
    "                    log_metrics.metric_failed.append(int(match.group('failed')))\n",
    "                    #s = json.dumps(log_metrics,ensure_ascii=False, cls=MyEncoder)\n",
    "                    \n",
    "            with open(file_name+'.json','w', encoding='utf-8') as wr:\n",
    "                json.dump(log_metrics, wr, ensure_ascii=False, cls=MyEncoder, indent=True)"
   ]
  },
  {
   "cell_type": "code",
   "execution_count": null,
   "metadata": {},
   "outputs": [],
   "source": [
    "file_list = [\n",
    "        r\"..\\Data\\RobocopyLog\\rocopylog_invalid_source.txt\",\n",
    "        r\"..\\Data\\RobocopyLog\\rocopylog.txt\"]\n",
    "\n",
    "start_time = time.time()\n",
    "\n",
    "parse_log_test(file_list)\n",
    "\n",
    "end_time = time.time()\n",
    "\n",
    "print('Elapsed seconds: {0:.2f}s'.format(end_time-start_time))"
   ]
  },
  {
   "cell_type": "code",
   "execution_count": null,
   "metadata": {},
   "outputs": [],
   "source": []
  }
 ],
 "metadata": {
  "kernelspec": {
   "display_name": "Python 3",
   "language": "python",
   "name": "python3"
  },
  "language_info": {
   "codemirror_mode": {
    "name": "ipython",
    "version": 3
   },
   "file_extension": ".py",
   "mimetype": "text/x-python",
   "name": "python",
   "nbconvert_exporter": "python",
   "pygments_lexer": "ipython3",
   "version": "3.7.4"
  }
 },
 "nbformat": 4,
 "nbformat_minor": 1
}
