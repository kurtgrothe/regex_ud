{
 "cells": [
  {
   "cell_type": "markdown",
   "metadata": {},
   "source": [
    "### Ensure you are using Python 2.7 kernel (Select Kernel-> Change Kernel -> Python 2.x)"
   ]
  },
  {
   "cell_type": "code",
   "execution_count": null,
   "metadata": {},
   "outputs": [],
   "source": [
    "import json\n",
    "from json import JSONEncoder\n",
    "import re\n",
    "import time\n",
    "import datetime"
   ]
  },
  {
   "cell_type": "code",
   "execution_count": null,
   "metadata": {},
   "outputs": [],
   "source": [
    "class SensorData:\n",
    "    def __init__(self):\n",
    "        self.date_time = '' # day for which data is stored\n",
    "        self.sensor_value = {} # dictionary of parameter and List of values"
   ]
  },
  {
   "cell_type": "code",
   "execution_count": null,
   "metadata": {},
   "outputs": [],
   "source": [
    "class MyEncoder(JSONEncoder):\n",
    "    def default(self, o):\n",
    "        return o.__dict__ \n",
    "# http://stackoverflow.com/questions/3768895/how-to-make-a-class-json-serializable    "
   ]
  },
  {
   "cell_type": "code",
   "execution_count": null,
   "metadata": {},
   "outputs": [],
   "source": [
    "def parse_sensor_data_test(file_name):\n",
    "    start_time = time.time()\n",
    "    \n",
    "    PATTERN_HEADER = ur'(?m)^(?P<year>\\d{4})(?P<month>\\d{2})(?P<day>\\d{2})'\n",
    "    PATTERN_DATA = ur'(?m)(?P<temperature>\\d{4}|NNNN)(?P<humdity>\\d{3}|NNN)'\n",
    "    \n",
    "    sensor_data_regex = re.compile(PATTERN_DATA)\n",
    "    param_names = sensor_data_regex.groupindex.keys()\n",
    "    \n",
    "    all_data = []\n",
    "    with open(file_name,'r') as rdr:            \n",
    "        for line in rdr:\n",
    "            # One row contains a day worth of data\n",
    "            sensor_data = SensorData()\n",
    "            for parameter in param_names:\n",
    "                sensor_data.sensor_value[parameter] = []\n",
    "\n",
    "            line = line.decode('utf-8')\n",
    "\n",
    "            match = re.search(PATTERN_HEADER, line)\n",
    "\n",
    "            if match:\n",
    "                sensor_data.date_time = \\\n",
    "                    '-'.join([match.group('year'),match.group('month'),match.group('day')])\n",
    "                \n",
    "                header_len = len(match.group(0))\n",
    "                \n",
    "                match_iter = sensor_data_regex.finditer(line,header_len)\n",
    "                \n",
    "                for match in match_iter:\n",
    "                    for parameter in param_names:\n",
    "                        value = match.group(parameter)\n",
    "                        \n",
    "                        try:\n",
    "                            sensor_data.sensor_value[parameter].append(int(value))\n",
    "                        except:\n",
    "                            # NNN or NNNN => store none\n",
    "                            sensor_data.sensor_value[parameter].append(None)\n",
    "                            \n",
    "            all_data.append(sensor_data)\n",
    "        \n",
    "        print (u'Elapsed Time For Parsing: {0}'.format(time.time()-start_time))\n",
    "        \n",
    "        json_out = json.dumps(all_data, ensure_ascii=False, cls=MyEncoder, indent=True)        \n",
    "        print (u'Including JSON Conversion: {0}'.format(time.time()-start_time))\n",
    "        \n",
    "        json_out = json_out.encode('utf-8')        \n",
    "        print (u'Including Encoding Time: {0}'.format(time.time()-start_time))        \n",
    "        \n",
    "        with open(file_name+'.json','w') as wr:\n",
    "            wr.write(json_out)\n",
    "            \n",
    "        print (u'Including Write Time: {0}'.format(time.time()-start_time))     "
   ]
  },
  {
   "cell_type": "code",
   "execution_count": null,
   "metadata": {},
   "outputs": [],
   "source": [
    "file_name =  r\"..\\Data\\SensorData\\sensordata_365.txt\"\n",
    "parse_sensor_data_test(file_name)"
   ]
  }
 ],
 "metadata": {
  "kernelspec": {
   "display_name": "Python 3",
   "language": "python",
   "name": "python3"
  },
  "language_info": {
   "codemirror_mode": {
    "name": "ipython",
    "version": 3
   },
   "file_extension": ".py",
   "mimetype": "text/x-python",
   "name": "python",
   "nbconvert_exporter": "python",
   "pygments_lexer": "ipython3",
   "version": "3.7.4"
  }
 },
 "nbformat": 4,
 "nbformat_minor": 1
}
