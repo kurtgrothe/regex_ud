{
 "cells": [
  {
   "cell_type": "code",
   "execution_count": null,
   "metadata": {
    "collapsed": false
   },
   "outputs": [],
   "source": [
    "import re\n",
    "import time"
   ]
  },
  {
   "cell_type": "code",
   "execution_count": null,
   "metadata": {
    "collapsed": true
   },
   "outputs": [],
   "source": [
    "def validation_example_one ():\n",
    "    pattern = ur\"\\d+\"\n",
    "   \n",
    "    # successful match\n",
    "    text = u\"1234\"\n",
    "    match = re.match(pattern, text)\n",
    "    \n",
    "    print (u'Pattern {0}'.format(pattern))\n",
    "    \n",
    "    if match:\n",
    "        print (u'Match. Text {0}'.format(text))\n",
    "    else:\n",
    "        print (u'No Match. Text {0}'.format(text))\n",
    "        \n",
    "    # no match\n",
    "    text =  u\"ABCD1234\"\n",
    "    match = re.match(pattern, text)\n",
    "    \n",
    "    if match:\n",
    "        print (u'Match. Pattern {0} Text {1}'.format(pattern, text))\n",
    "    else:\n",
    "        print (u'No Match. Pattern {0} Text {1}'.format(pattern, text))"
   ]
  },
  {
   "cell_type": "code",
   "execution_count": null,
   "metadata": {
    "collapsed": false
   },
   "outputs": [],
   "source": [
    "validation_example_one()"
   ]
  },
  {
   "cell_type": "code",
   "execution_count": null,
   "metadata": {
    "collapsed": false
   },
   "outputs": [],
   "source": [
    "def validation_example_two ():\n",
    "    pattern = ur\"\\d+\"\n",
    "   \n",
    "    # successful match\n",
    "    text = u\"1234\"\n",
    "    match = re.search(pattern, text)\n",
    "    \n",
    "    print (u'Pattern {0}'.format(pattern))\n",
    "    \n",
    "    if match:\n",
    "        print (u'Match. Text {0}'.format(text))\n",
    "    else:\n",
    "        print (u'No Match. Text {0}'.format(text))\n",
    "        \n",
    "        \n",
    "    # successful match\n",
    "    text = u\"ABCD1234\"\n",
    "    match = re.search(pattern, text)\n",
    "    \n",
    "    if match:\n",
    "        print (u'Match. Text {0}'.format(text))\n",
    "    else:\n",
    "        print (u'No Match. Text {0}'.format(text))       \n",
    "        \n",
    "    # no match\n",
    "    text =  u\"Hello World!\"\n",
    "    match = re.search(pattern, text)\n",
    "    \n",
    "    if match:\n",
    "        print (u'Match. Pattern {0} Text {1}'.format(pattern, text))\n",
    "    else:\n",
    "        print (u'No Match. Pattern {0} Text {1}'.format(pattern, text))"
   ]
  },
  {
   "cell_type": "code",
   "execution_count": null,
   "metadata": {
    "collapsed": false
   },
   "outputs": [],
   "source": [
    "validation_example_two()"
   ]
  },
  {
   "cell_type": "code",
   "execution_count": null,
   "metadata": {
    "collapsed": false
   },
   "outputs": [],
   "source": [
    "def validation_example_three ():\n",
    "    pattern = ur\"^\\d+$\"\n",
    "    positiveTest = [u\"123456\", u\"456\", u\"321082\", u\"0820102\"]\n",
    "    negativeTest = [u\"ABCD\", u\"A1234\", u\"1234AB\", u\"  123\", \n",
    "                    u\"321  \", u\"  111   \", u\"123 4567\", u\"123\\n456\"]\n",
    "\n",
    "    print (u'Pattern {0}'.format(pattern))\n",
    "    \n",
    "    for text in positiveTest:\n",
    "        match = re.search(pattern, text)    \n",
    "        if match:\n",
    "            print (u'Match. Text {0}'.format(text))\n",
    "        else:\n",
    "            print (u'No Match. Text {0}'.format(text))\n",
    "            raise ValueError(u'Positive Test. Expected successful match but failed {0}'.format(text)\n",
    "                            .encode('utf-8'))\n",
    "        \n",
    "        \n",
    "    for text in negativeTest:\n",
    "        match = re.search(pattern, text)\n",
    "        if match:\n",
    "            print (u'Match. Text {0}'.format(text))\n",
    "            raise ValueError(u'Negative Test. Expected a failed match but succeeded. {0}'.format(text)\n",
    "                            .encode('utf-8'))\n",
    "        else:\n",
    "            print (u'No Match. Text {0}'.format(text))\n",
    "        \n"
   ]
  },
  {
   "cell_type": "code",
   "execution_count": null,
   "metadata": {
    "collapsed": false
   },
   "outputs": [],
   "source": [
    "validation_example_three()"
   ]
  },
  {
   "cell_type": "code",
   "execution_count": null,
   "metadata": {
    "collapsed": false
   },
   "outputs": [],
   "source": [
    "def find_all_example():\n",
    "    pattern = ur\"\\b\\d{5}\\b\"\n",
    "    text = u\"NY Postal Codes are 10001, 10002, 10003, 10004\"\n",
    "            \n",
    "    print (u'Pattern {0}'.format(pattern))\n",
    "    # successful match\n",
    "    match = re.findall(pattern, text)\n",
    "    \n",
    "    print (match)"
   ]
  },
  {
   "cell_type": "code",
   "execution_count": null,
   "metadata": {
    "collapsed": false
   },
   "outputs": [],
   "source": [
    "find_all_example()"
   ]
  },
  {
   "cell_type": "code",
   "execution_count": null,
   "metadata": {
    "collapsed": false
   },
   "outputs": [],
   "source": [
    "def find_iter_example():\n",
    "    pattern = ur\"\\b\\d{5}\\b\"\n",
    "    text = u\"NY Postal Codes are 10001, 10002, 10003, 10004\"\n",
    "            \n",
    "    print (u'Pattern {0}'.format(pattern))\n",
    "    print (u'Text {0}'.format(text))\n",
    "    # successful match\n",
    "    match_iter = re.finditer(pattern, text)\n",
    "    for match in match_iter:\n",
    "        print (u'Match. Text: {0} Index: {1} Length: {2}'.format(match.group(0), match.start(),len(match.group(0))))"
   ]
  },
  {
   "cell_type": "code",
   "execution_count": null,
   "metadata": {
    "collapsed": false
   },
   "outputs": [],
   "source": [
    "find_iter_example()"
   ]
  },
  {
   "cell_type": "code",
   "execution_count": null,
   "metadata": {
    "collapsed": true
   },
   "outputs": [],
   "source": [
    "def group_by_name_example():\n",
    "    pattern = ur\"(?P<year>\\d{4})(?P<month>\\d{2})(?P<day>\\d{2})(?P<hour>\\d{2})?\"\n",
    "    text = u\"Timestamp=20160502\"\n",
    "            \n",
    "    print (u'Pattern {0}'.format(pattern))\n",
    "    print (u'Text {0}'.format(text))\n",
    "    # successful match\n",
    "    match_iter = re.finditer(pattern, text)\n",
    "    \n",
    "    for match in match_iter:\n",
    "        print (u'Match. Text: {0} Index: {1} Length: {2}'.format(match.group(0), match.start(),len(match.group(0))))\n",
    "        print (u'Access group by name')\n",
    "        print (u'  Year:  {0}'.format(match.group(u'year')))\n",
    "        print (u'  Month: {0}'.format(match.group(u'month')))\n",
    "        print (u'  Day:   {0}'.format(match.group(u'day')))    \n",
    "        print (u'  Hour:  {0}'.format(match.group(u'hour')))          \n",
    "        print (u'Access all named groups as a dictionary')\n",
    "        print (u'   {0}'.format(match.groupdict()))"
   ]
  },
  {
   "cell_type": "code",
   "execution_count": null,
   "metadata": {
    "collapsed": false
   },
   "outputs": [],
   "source": [
    "group_by_name_example()"
   ]
  },
  {
   "cell_type": "code",
   "execution_count": null,
   "metadata": {
    "collapsed": false
   },
   "outputs": [],
   "source": [
    "def group_by_number_example():\n",
    "    # Optional last two digits\n",
    "    pattern = ur\"(\\d{4})(\\d{2})(\\d{2})(\\d{2})?\"\n",
    "    text = u\"Timestamp=20160502\"\n",
    "            \n",
    "    print (u'Pattern {0}'.format(pattern))\n",
    "    print (u'Text {0}'.format(text))\n",
    "    # successful match\n",
    "    match_iter = re.finditer(pattern, text)\n",
    "    \n",
    "    for match in match_iter:\n",
    "        print (u'Match. Text: {0} Index: {1} Length: {2}'\n",
    "               .format(match.group(0), match.start(),len(match.group(0))))\n",
    "        \n",
    "        for i,value in enumerate(match.groups()):\n",
    "            print(u'  Group: {0}, Value: {1}'.format(i+1,value))\n",
    "        "
   ]
  },
  {
   "cell_type": "code",
   "execution_count": null,
   "metadata": {
    "collapsed": false
   },
   "outputs": [],
   "source": [
    "group_by_number_example()"
   ]
  },
  {
   "cell_type": "code",
   "execution_count": null,
   "metadata": {
    "collapsed": false
   },
   "outputs": [],
   "source": [
    "def substitution_example():\n",
    "    pattern = ur\"(?P<value>\\d+(,\\d{3})*(\\.\\d{2})?)\\s+dollar(s)?\"\n",
    "    \n",
    "    replacement_pattern = ur'**USD \\g<value>**'\n",
    "\n",
    "    text = \\\n",
    "u'''Widget Unit cost: 12,000.56 dollars\n",
    "Taxes: 234.00 dollars\n",
    "Total: 12,234.56 dollars'''\n",
    "            \n",
    "    print (u'Pattern: {0}'.format(pattern))\n",
    "    print (u'Text:\\n{0}'.format(text))\n",
    "    # successful match\n",
    "    new_text = re.sub(pattern, replacement_pattern, text)\n",
    "    \n",
    "    print(u'New Text:\\n{0}'.format(new_text))"
   ]
  },
  {
   "cell_type": "code",
   "execution_count": null,
   "metadata": {
    "collapsed": false
   },
   "outputs": [],
   "source": [
    "substitution_example()"
   ]
  },
  {
   "cell_type": "code",
   "execution_count": null,
   "metadata": {
    "collapsed": false
   },
   "outputs": [],
   "source": [
    "def celsius_to_fahrenheit(match):\n",
    "    degCelsius =  float(match.group(u\"celsius\"))\n",
    "    degF = 32.0 + (degCelsius * 9.0 / 5.0);\n",
    "    return u'{0}°F'.format(degF);"
   ]
  },
  {
   "cell_type": "code",
   "execution_count": null,
   "metadata": {
    "collapsed": false
   },
   "outputs": [],
   "source": [
    "def substitution_example_custom_logic():\n",
    "    pattern = ur\"(?u)(?P<celsius>\\d+)\\u00B0C\"\n",
    "    text = u\"Today's temperature is 32°C\"\n",
    "            \n",
    "    print (u'Pattern: {0}'.format(pattern))\n",
    "    print (u'Text before: {0}'.format(text))\n",
    "        \n",
    "    new_text = re.sub(pattern, celsius_to_fahrenheit, text)\n",
    "    \n",
    "    print(u'Text after:  {0}'.format(new_text))"
   ]
  },
  {
   "cell_type": "code",
   "execution_count": null,
   "metadata": {
    "collapsed": false
   },
   "outputs": [],
   "source": [
    "substitution_example_custom_logic()"
   ]
  },
  {
   "cell_type": "code",
   "execution_count": null,
   "metadata": {
    "collapsed": true
   },
   "outputs": [],
   "source": [
    "def split_example():\n",
    "    pattern = ur\"\\d+\\.\\s*\"\n",
    "    text = u'Here is the list...1.soccer  2. tennis 3.basketball 4.\\t\\tcricket'\n",
    "            \n",
    "    print (u'Pattern: {0}'.format(pattern))\n",
    "    print (u'Text Before: {0}'.format(text))\n",
    "    split_text = re.split(pattern, text)\n",
    "    print(u'Text after:')\n",
    "    for s in split_text:\n",
    "        print(u'  {0}'.format(s))"
   ]
  },
  {
   "cell_type": "code",
   "execution_count": null,
   "metadata": {
    "collapsed": false
   },
   "outputs": [],
   "source": [
    "split_example()"
   ]
  },
  {
   "cell_type": "code",
   "execution_count": null,
   "metadata": {
    "collapsed": false
   },
   "outputs": [],
   "source": [
    "def verbatim_string_example():\n",
    "    regular_string = [ u\"\\\\d\\t\\\\d\", u\"\\\\d\\x09\\\\d\", u\"\\\\\\\\server\\\\share\\\\file.txt\", u\"Line1\\nLine2\"]\n",
    "    verbatim_string = [ur\"\\d\\t\\d\", ur\"\\d\\x09\\d\",  ur\"\\\\server\\share\\file.txt\", ur\"Line1\\nLine2\"]\n",
    "    \n",
    "    for i in range(len(regular_string)):\n",
    "        print (u'***')\n",
    "        print (u'Regular String: {0}'.format(regular_string[i]))\n",
    "        print (u'Raw String: {0}'.format(verbatim_string[i]))"
   ]
  },
  {
   "cell_type": "code",
   "execution_count": null,
   "metadata": {
    "collapsed": false
   },
   "outputs": [],
   "source": [
    "verbatim_string_example()"
   ]
  },
  {
   "cell_type": "code",
   "execution_count": null,
   "metadata": {
    "collapsed": false
   },
   "outputs": [],
   "source": [
    "def unicode_flag_example():\n",
    "    unicode_text = u\"தமிழ் Tamil, Hindi हिन्दी, Japanese 日本語,  1234.\"\n",
    "\n",
    "    print (u'Text {0}'.format(unicode_text))\n",
    "    print (u'')\n",
    "\n",
    "    pattern = ur\"(?L)\\w+\"\n",
    "    print (u'Pattern With Locale Flag: {0}'.format(pattern))\n",
    "    match_iter = re.finditer(pattern, unicode_text)\n",
    "\n",
    "    for match in match_iter:\n",
    "        print (u'-->Text:{0}, Index:{1}, Length:{2}'.format(match.group(0), match.start(),len(match.group(0))))\n",
    "    \n",
    "    print (u'')\n",
    "    pattern = ur\"(?u)\\w+\"\n",
    "    print (u'Pattern With Unicode Flag: {0}'.format(pattern))\n",
    "    match_iter = re.finditer(pattern, unicode_text)\n",
    "    for match in match_iter:\n",
    "        print (u'-->Text:{0}, Index:{1}, Length:{2}'.format(match.group(0), match.start(),len(match.group(0))))\n",
    "    \n",
    "    print (u'')\n",
    "    pattern = ur\"\\w+\"\n",
    "    print (u'Pattern Default Option: {0}'.format(pattern))\n",
    "    match_iter = re.finditer(pattern, unicode_text)\n",
    "    for match in match_iter:\n",
    "        print (u'-->Text:{0}, Index:{1}, Length:{2}'.format(match.group(0), match.start(),len(match.group(0))))    "
   ]
  },
  {
   "cell_type": "code",
   "execution_count": null,
   "metadata": {
    "collapsed": false
   },
   "outputs": [],
   "source": [
    "unicode_flag_example()"
   ]
  },
  {
   "cell_type": "code",
   "execution_count": null,
   "metadata": {
    "collapsed": false
   },
   "outputs": [],
   "source": [
    "def file_unicode_content_example():\n",
    "    file_content = \\\n",
    "        open(r'C:\\RegexPythonCourse\\Data\\unicode\\TestUnicodeFile.txt','r').read() \\\n",
    "        .decode('utf-8')\n",
    "        \n",
    "    pattern = ur\"(?u)\\w+\"\n",
    "    print (u'Pattern {0}'.format(pattern))\n",
    "    print (u'Text {0}'.format(file_content))\n",
    "    # successful match|\n",
    "    print(u'Match')\n",
    "    match_iter = re.finditer(pattern, file_content)\n",
    "    start_time = time.time()\n",
    "    for match in match_iter:\n",
    "        end_time = time.time()\n",
    "        print (u'{0},{1},{2},{3:0.2f}'\n",
    "               .format(match.group(0),match.start(), \n",
    "                       match.end()-match.start(), \n",
    "                       end_time - start_time))"
   ]
  },
  {
   "cell_type": "code",
   "execution_count": null,
   "metadata": {
    "collapsed": false,
    "scrolled": true
   },
   "outputs": [],
   "source": [
    "file_unicode_content_example()"
   ]
  },
  {
   "cell_type": "code",
   "execution_count": null,
   "metadata": {
    "collapsed": true
   },
   "outputs": [],
   "source": []
  }
 ],
 "metadata": {
  "kernelspec": {
   "display_name": "Python 2",
   "language": "python",
   "name": "python2"
  },
  "language_info": {
   "codemirror_mode": {
    "name": "ipython",
    "version": 2
   },
   "file_extension": ".py",
   "mimetype": "text/x-python",
   "name": "python",
   "nbconvert_exporter": "python",
   "pygments_lexer": "ipython2",
   "version": "2.7.11"
  }
 },
 "nbformat": 4,
 "nbformat_minor": 0
}
